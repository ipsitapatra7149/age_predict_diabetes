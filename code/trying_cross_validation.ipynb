{
  "nbformat": 4,
  "nbformat_minor": 0,
  "metadata": {
    "colab": {
      "provenance": [],
      "authorship_tag": "ABX9TyMMVrn80mjExqTzEa1rnf+K",
      "include_colab_link": true
    },
    "kernelspec": {
      "name": "python3",
      "display_name": "Python 3"
    },
    "language_info": {
      "name": "python"
    }
  },
  "cells": [
    {
      "cell_type": "markdown",
      "metadata": {
        "id": "view-in-github",
        "colab_type": "text"
      },
      "source": [
        "<a href=\"https://colab.research.google.com/github/Shah03-rgb/diya_bati_ss/blob/main/trying_cross_validation.ipynb\" target=\"_parent\"><img src=\"https://colab.research.google.com/assets/colab-badge.svg\" alt=\"Open In Colab\"/></a>"
      ]
    },
    {
      "cell_type": "code",
      "execution_count": 25,
      "metadata": {
        "colab": {
          "base_uri": "https://localhost:8080/"
        },
        "id": "KV2K39mdmZyo",
        "outputId": "a511c52b-462c-48b6-db38-ac9cb542f173"
      },
      "outputs": [
        {
          "output_type": "stream",
          "name": "stdout",
          "text": [
            "Columns in dataset: Index(['Age Group', 'Gender', 'Height', 'Weight', 'Current Occupation',\n",
            "       'Age at Diagnosis', 'Fasting Blood Sugar', 'Postprandial Blood Sugar',\n",
            "       'Average Blood sugar in 3 months', 'HbA1c Levels', 'Use of Medication',\n",
            "       'Frequency of Doctor Visits', 'Frequency of Blood Sugar Testing',\n",
            "       'Other Chronic Conditions', 'Meal Frequency', 'Sugar Consumption',\n",
            "       'Oily Food Consumption', 'Processed Food Consumption',\n",
            "       'Food Source Preference', 'Physical Activity Level', 'Smoking Habits',\n",
            "       'Alcohol Consumption', 'Sleep Patterns',\n",
            "       'Which side of the family has diabetes', 'Maternal_Age at Diagnosis',\n",
            "       'Maternal_Duration of Diabetes', 'Maternal_HbA1c Levels',\n",
            "       'Maternal_Use of Medication', 'Maternal_Dietary Pattern',\n",
            "       'Maternal_Physical Activity Level', 'Paternal_Age at Diagnosis',\n",
            "       'Paternal_Duration of Diabetes', 'Paternal_HbA1c Levels',\n",
            "       'Paternal_Use of Medication', 'Paternal_Dietary Pattern',\n",
            "       'Paternal_Physical Activity Level',\n",
            "       'Awareness of Diabetes-Related Risks',\n",
            "       'Stress Levels Related to Diabetes Management',\n",
            "       'Support from Family and Friends',\n",
            "       'Financial Burden of Diabetes Treatment'],\n",
            "      dtype='object')\n",
            "Mean Absolute Error (MAE) scores: [ 6.92307692  9.46153846  8.57692308  7.03846154 10.20833333]\n",
            "Average MAE: 8.441666666666666\n"
          ]
        }
      ],
      "source": [
        "import pandas as pd\n",
        "import numpy as np\n",
        "from sklearn.model_selection import cross_val_score, KFold, train_test_split\n",
        "from sklearn.tree import DecisionTreeRegressor\n",
        "from sklearn.preprocessing import StandardScaler\n",
        "from sklearn.pipeline import Pipeline\n",
        "\n",
        "# Load dataset\n",
        "file_path = \"/content/Diabetic_expandeddataset.xlsx\"\n",
        "df = pd.read_excel(file_path)\n",
        "\n",
        "# Display column names to identify target and features\n",
        "print(\"Columns in dataset:\", df.columns)\n",
        "\n",
        "# Define target variable and features\n",
        "target = \"Age at Diagnosis\"\n",
        "features = [col for col in df.columns if col != target]\n",
        "\n",
        "# Handle missing values (if any)\n",
        "df = df.dropna()\n",
        "\n",
        "# Convert age ranges to numerical midpoints\n",
        "def convert_age_range(age):\n",
        "    age = str(age)\n",
        "    if '-' in age:  # Handles ranges like '45-54'\n",
        "        low, high = map(int, age.split('-'))\n",
        "        return (low + high) / 2  # Midpoint\n",
        "    elif '+' in age:  # Handles '65+'\n",
        "        low = int(age.replace('+', ''))\n",
        "        return low + 5  # Approximate midpoint for open-ended range\n",
        "    elif 'or older' in age:  # Handles cases like '55 or older'\n",
        "        low = int(age.split(' ')[0])  # Extracts the numerical part\n",
        "        return low + 5  # Approximate midpoint\n",
        "    else:\n",
        "        return float(age)  # If it's already a number\n",
        "\n",
        "df[target] = df[target].apply(convert_age_range)\n",
        "\n",
        "df[target] = df[target].apply(convert_age_range)\n",
        "\n",
        "# Ensure all features are numeric (one-hot encode categorical features if any)\n",
        "X = pd.get_dummies(df[features])\n",
        "y = df[target]\n",
        "\n",
        "# Create a pipeline with scaling and regression model\n",
        "pipeline = Pipeline([\n",
        "    ('scaler', StandardScaler()),\n",
        "    ('regressor', DecisionTreeRegressor(random_state=42))\n",
        "])\n",
        "\n",
        "# Define cross-validation strategy\n",
        "cv = KFold(n_splits=5, shuffle=True, random_state=42)\n",
        "\n",
        "# Evaluate model using cross-validation\n",
        "mae_scores = -cross_val_score(pipeline, X, y, cv=cv, scoring='neg_mean_absolute_error')\n",
        "\n",
        "# Print results\n",
        "print(f\"Mean Absolute Error (MAE) scores: {mae_scores}\")\n",
        "print(f\"Average MAE: {np.mean(mae_scores)}\")"
      ]
    },
    {
      "cell_type": "code",
      "source": [
        "print(df.describe())  # Summary of numerical features\n"
      ],
      "metadata": {
        "colab": {
          "base_uri": "https://localhost:8080/"
        },
        "id": "tlGEdbw0sDmT",
        "outputId": "a803bfb6-0231-463e-821a-1c066c0b05b2"
      },
      "execution_count": 26,
      "outputs": [
        {
          "output_type": "stream",
          "name": "stdout",
          "text": [
            "           Height     Weight  Age at Diagnosis  Fasting Blood Sugar  \\\n",
            "count   64.000000  64.000000         64.000000            64.000000   \n",
            "mean   167.270450  74.497907         49.007812           145.148932   \n",
            "std      7.061454  10.411012          7.926994            34.473942   \n",
            "min    158.418154  57.008314         39.500000            84.514708   \n",
            "25%    160.822228  64.785099         39.500000           119.669220   \n",
            "50%    165.555961  74.881577         49.500000           148.291523   \n",
            "75%    175.085386  83.400356         60.000000           173.942898   \n",
            "max    180.000000  91.128262         60.000000           200.000000   \n",
            "\n",
            "       Postprandial Blood Sugar  Average Blood sugar in 3 months  \n",
            "count                 64.000000                        64.000000  \n",
            "mean                 216.969600                       208.789265  \n",
            "std                   53.314168                        54.170127  \n",
            "min                  118.024958                       115.720937  \n",
            "25%                  174.759183                       168.163267  \n",
            "50%                  211.739020                       211.660174  \n",
            "75%                  265.956860                       252.303475  \n",
            "max                  300.000000                       300.000000  \n"
          ]
        }
      ]
    },
    {
      "cell_type": "code",
      "source": [
        "print(df.isna().sum())  # Count missing values in each column\n",
        "#result shows 0 missing values"
      ],
      "metadata": {
        "colab": {
          "base_uri": "https://localhost:8080/"
        },
        "id": "TLTVv2visIPM",
        "outputId": "bc4cb8a6-c80c-471d-f991-6b384e1be086"
      },
      "execution_count": 27,
      "outputs": [
        {
          "output_type": "stream",
          "name": "stdout",
          "text": [
            "Age Group                                       0\n",
            "Gender                                          0\n",
            "Height                                          0\n",
            "Weight                                          0\n",
            "Current Occupation                              0\n",
            "Age at Diagnosis                                0\n",
            "Fasting Blood Sugar                             0\n",
            "Postprandial Blood Sugar                        0\n",
            "Average Blood sugar in 3 months                 0\n",
            "HbA1c Levels                                    0\n",
            "Use of Medication                               0\n",
            "Frequency of Doctor Visits                      0\n",
            "Frequency of Blood Sugar Testing                0\n",
            "Other Chronic Conditions                        0\n",
            "Meal Frequency                                  0\n",
            "Sugar Consumption                               0\n",
            "Oily Food Consumption                           0\n",
            "Processed Food Consumption                      0\n",
            "Food Source Preference                          0\n",
            "Physical Activity Level                         0\n",
            "Smoking Habits                                  0\n",
            "Alcohol Consumption                             0\n",
            "Sleep Patterns                                  0\n",
            "Which side of the family has diabetes           0\n",
            "Maternal_Age at Diagnosis                       0\n",
            "Maternal_Duration of Diabetes                   0\n",
            "Maternal_HbA1c Levels                           0\n",
            "Maternal_Use of Medication                      0\n",
            "Maternal_Dietary Pattern                        0\n",
            "Maternal_Physical Activity Level                0\n",
            "Paternal_Age at Diagnosis                       0\n",
            "Paternal_Duration of Diabetes                   0\n",
            "Paternal_HbA1c Levels                           0\n",
            "Paternal_Use of Medication                      0\n",
            "Paternal_Dietary Pattern                        0\n",
            "Paternal_Physical Activity Level                0\n",
            "Awareness of Diabetes-Related Risks             0\n",
            "Stress Levels Related to Diabetes Management    0\n",
            "Support from Family and Friends                 0\n",
            "Financial Burden of Diabetes Treatment          0\n",
            "dtype: int64\n"
          ]
        }
      ]
    },
    {
      "cell_type": "code",
      "source": [
        "sns.histplot(df[target], bins=20, kde=True)\n",
        "plt.title(\"Distribution of Age at Diagnosis\")\n",
        "plt.xlabel(\"Age at Diagnosis\")\n",
        "plt.ylabel(\"Frequency\")\n",
        "plt.show()\n"
      ],
      "metadata": {
        "colab": {
          "base_uri": "https://localhost:8080/",
          "height": 472
        },
        "id": "BpP8C1_QsLwe",
        "outputId": "480779bc-5aef-4785-bcc6-511eb52c8cb9"
      },
      "execution_count": 32,
      "outputs": [
        {
          "output_type": "display_data",
          "data": {
            "text/plain": [
              "<Figure size 640x480 with 1 Axes>"
            ],
            "image/png": "[encoded data removed]"
          },
          "metadata": {}
        }
      ]
    },
    {
      "cell_type": "code",
      "source": [
        "print(df.columns)  # Look for alcohol, junk food, or dietary columns\n",
        "#for segregation of alcohols nd other unhealthy foods"
      ],
      "metadata": {
        "colab": {
          "base_uri": "https://localhost:8080/"
        },
        "id": "eH5QoAY0sx-n",
        "outputId": "1dc14404-fd02-492a-9bc7-1cc2111b20e7"
      },
      "execution_count": 34,
      "outputs": [
        {
          "output_type": "stream",
          "name": "stdout",
          "text": [
            "Index(['Age Group', 'Gender', 'Height', 'Weight', 'Current Occupation',\n",
            "       'Age at Diagnosis', 'Fasting Blood Sugar', 'Postprandial Blood Sugar',\n",
            "       'Average Blood sugar in 3 months', 'HbA1c Levels', 'Use of Medication',\n",
            "       'Frequency of Doctor Visits', 'Frequency of Blood Sugar Testing',\n",
            "       'Other Chronic Conditions', 'Meal Frequency', 'Sugar Consumption',\n",
            "       'Oily Food Consumption', 'Processed Food Consumption',\n",
            "       'Food Source Preference', 'Physical Activity Level', 'Smoking Habits',\n",
            "       'Alcohol Consumption', 'Sleep Patterns',\n",
            "       'Which side of the family has diabetes', 'Maternal_Age at Diagnosis',\n",
            "       'Maternal_Duration of Diabetes', 'Maternal_HbA1c Levels',\n",
            "       'Maternal_Use of Medication', 'Maternal_Dietary Pattern',\n",
            "       'Maternal_Physical Activity Level', 'Paternal_Age at Diagnosis',\n",
            "       'Paternal_Duration of Diabetes', 'Paternal_HbA1c Levels',\n",
            "       'Paternal_Use of Medication', 'Paternal_Dietary Pattern',\n",
            "       'Paternal_Physical Activity Level',\n",
            "       'Awareness of Diabetes-Related Risks',\n",
            "       'Stress Levels Related to Diabetes Management',\n",
            "       'Support from Family and Friends',\n",
            "       'Financial Burden of Diabetes Treatment'],\n",
            "      dtype='object')\n"
          ]
        }
      ]
    },
    {
      "cell_type": "markdown",
      "source": [
        "'Alcohol Consumption', 'Sugar Consumption', 'Oily Food Consumption', 'Processed Food Consumption', 'Smoking Habits'"
      ],
      "metadata": {
        "id": "MQQn8oHatQCW"
      }
    },
    {
      "cell_type": "code",
      "source": [
        "# Assuming 'Alcohol Consumption' and 'Junk Food Intake' exist in the dataset\n",
        "alcohol_consumers = df[df[\"Alcohol Consumption\"] > 0]  # People who consume alcohol\n",
        "non_alcohol_consumers = df[df[\"Alcohol Consumption\"] == 0]  # Those who don't\n",
        "\n",
        "oily_food_consumers = df[df[\"Oily Food Consumption\"] > 0]  # People who eat junk food\n",
        "healthy_eaters = df[df[\"Oily Food Consumption\"] == 0]  # Those who avoid it\n",
        "\n",
        "sugar_consumers = df[df[\"Sugar Consumption\"] > 0]  # People who consume sugar\n",
        "non_sugar_consumers = df[df[\"Sugar Consumption\"] == 0]  # Those who don't\n",
        "\n",
        "processed_food_consumers = df[df[\"Processed Food Consumption\"] > 0]  # People who consume processed food\n",
        "non_processed_food_consumers = df[df[\"Processed Food Consumption\"] == 0]  # Those who don't\n",
        "\n",
        "smokers = df[df[\"Smoking Habits\"] > 0]  # People who smoke\n",
        "non_smokers = df[df[\"Smoking Habits\"] == 0]  # Those who don't\n",
        "\n",
        "#gotta convert the string values under these columns into integers(like never,rarely, etc into numbers)  :)\n",
        "\n",
        "#don't run this without making changes in the dataset  :)\n",
        "\n",
        "'''\n",
        "import seaborn as sns\n",
        "import matplotlib.pyplot as plt\n",
        "\n",
        "plt.figure(figsize=(8, 5))\n",
        "sns.boxplot(x=df[\"Alcohol Consumption\"] > 0, y=df[\"Age at Diagnosis\"])\n",
        "plt.xlabel(\"Alcohol Consumption (0 = No, 1 = Yes)\")\n",
        "plt.ylabel(\"Age at Diagnosis\")\n",
        "plt.title(\"Effect of Alcohol on Age at Diagnosis\")\n",
        "plt.show()\n",
        "\n",
        "'''\n",
        "\n",
        "'''\n",
        "\n",
        "from scipy.stats import ttest_ind\n",
        "\n",
        "# Alcohol impact test\n",
        "t_stat, p_value = ttest_ind(alcohol_consumers[\"Age at Diagnosis\"], non_alcohol_consumers[\"Age at Diagnosis\"], equal_var=False)\n",
        "print(f\"Alcohol Consumption Impact - t-statistic: {t_stat}, p-value: {p_value}\")\n",
        "\n",
        "'''\n",
        "\n",
        "#run this for each column attribute after making changes and running the former code\n"
      ],
      "metadata": {
        "id": "T3-5jXyUu3qP"
      },
      "execution_count": null,
      "outputs": []
    },
    {
      "cell_type": "markdown",
      "source": [
        "Do the same for\n",
        "\n",
        "\"take considerations from the parental side .... nd maternal side for the data analysis add their lifestyle , consumptions nd everthing\"\n",
        "\n"
      ],
      "metadata": {
        "id": "kY4PzZDPwKsm"
      }
    }
  ]
}